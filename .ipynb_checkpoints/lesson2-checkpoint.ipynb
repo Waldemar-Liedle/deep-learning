{
 "cells": [
  {
   "cell_type": "markdown",
   "metadata": {},
   "source": [
    "# Leeson2: Example with TensorFlow"
   ]
  },
  {
   "cell_type": "markdown",
   "metadata": {},
   "source": [
    "### Imports"
   ]
  },
  {
   "cell_type": "code",
   "execution_count": 1,
   "metadata": {},
   "outputs": [
    {
     "name": "stderr",
     "output_type": "stream",
     "text": [
      "C:\\Users\\WL\\Anaconda3\\lib\\site-packages\\h5py\\__init__.py:36: FutureWarning: Conversion of the second argument of issubdtype from `float` to `np.floating` is deprecated. In future, it will be treated as `np.float64 == np.dtype(float).type`.\n",
      "  from ._conv import register_converters as _register_converters\n"
     ]
    }
   ],
   "source": [
    "import numpy as np\n",
    "import matplotlib.pyplot as plt\n",
    "import tensorflow as tf"
   ]
  },
  {
   "cell_type": "markdown",
   "metadata": {},
   "source": [
    "### Data"
   ]
  },
  {
   "cell_type": "code",
   "execution_count": 2,
   "metadata": {},
   "outputs": [],
   "source": [
    "observations = 10000\n",
    "\n",
    "xs = np.random.uniform(-10, 10, (observations, 1))\n",
    "zs = np.random.uniform(-10, 10, (observations, 1))\n",
    "\n",
    "generated_inputs = np.column_stack((xs,zs))\n",
    "\n",
    "noise = np.random.uniform(-1, 1, (observations, 1))\n",
    "generated_targets = 2*xs - 3*zs + 5 + noise\n",
    "\n",
    "np.savez('tf_intro', inputs = generated_inputs, targets = generated_targets)"
   ]
  },
  {
   "cell_type": "markdown",
   "metadata": {},
   "source": [
    "### Solving with TensorFlow"
   ]
  },
  {
   "cell_type": "code",
   "execution_count": 3,
   "metadata": {},
   "outputs": [],
   "source": [
    "input_size = 2\n",
    "output_size = 1"
   ]
  },
  {
   "cell_type": "markdown",
   "metadata": {},
   "source": [
    "### Model"
   ]
  },
  {
   "cell_type": "code",
   "execution_count": 4,
   "metadata": {},
   "outputs": [],
   "source": [
    "inputs = tf.placeholder(tf.float32, [None, input_size])\n",
    "targets = tf.placeholder(tf.float32, [None, output_size])\n",
    "\n",
    "weights = tf.Variable(tf.random_uniform([input_size, output_size], minval = -0.1, maxval = 0.1))\n",
    "biases = tf.Variable(tf.random_uniform([output_size], minval = -0.1, maxval = 0.1))\n",
    "\n",
    "outputs = tf.matmul(inputs, weights) + biases"
   ]
  },
  {
   "cell_type": "markdown",
   "metadata": {},
   "source": [
    "### Objective function and optimization method"
   ]
  },
  {
   "cell_type": "code",
   "execution_count": 5,
   "metadata": {},
   "outputs": [],
   "source": [
    "#mean_loss = tf.losses.mean_squared_error(labels = targets, predictions = outputs) / 2.\n",
    "mean_loss = tf.losses.huber_loss(labels = targets, predictions = outputs) / 2.\n",
    "\n",
    "optimize = tf.train.GradientDescentOptimizer(learning_rate = 0.05).minimize(mean_loss)"
   ]
  },
  {
   "cell_type": "markdown",
   "metadata": {},
   "source": [
    "### Preparation"
   ]
  },
  {
   "cell_type": "code",
   "execution_count": 6,
   "metadata": {},
   "outputs": [],
   "source": [
    "sess = tf.InteractiveSession()"
   ]
  },
  {
   "cell_type": "markdown",
   "metadata": {},
   "source": [
    "### Variables"
   ]
  },
  {
   "cell_type": "code",
   "execution_count": 7,
   "metadata": {},
   "outputs": [],
   "source": [
    "initializer = tf.global_variables_initializer()\n",
    "\n",
    "sess.run(initializer)"
   ]
  },
  {
   "cell_type": "markdown",
   "metadata": {},
   "source": [
    "### Training data"
   ]
  },
  {
   "cell_type": "code",
   "execution_count": 8,
   "metadata": {},
   "outputs": [],
   "source": [
    "training_data = np.load('tf_intro.npz')"
   ]
  },
  {
   "cell_type": "markdown",
   "metadata": {},
   "source": [
    "### Learning"
   ]
  },
  {
   "cell_type": "code",
   "execution_count": 9,
   "metadata": {
    "scrolled": true
   },
   "outputs": [
    {
     "name": "stdout",
     "output_type": "stream",
     "text": [
      "16.959087\n",
      "15.857775\n",
      "14.768881\n",
      "13.694808\n",
      "12.637211\n",
      "11.5980425\n",
      "10.58046\n",
      "9.589496\n",
      "8.632978\n",
      "7.7211204\n",
      "6.869779\n",
      "6.10057\n",
      "5.436752\n",
      "4.9026623\n",
      "4.524938\n",
      "4.297553\n",
      "4.1698256\n",
      "4.0894117\n",
      "4.0270495\n",
      "3.9714038\n",
      "3.9185348\n",
      "3.8669574\n",
      "3.8160527\n",
      "3.765529\n",
      "3.7152293\n",
      "3.6650763\n",
      "3.6150124\n",
      "3.56501\n",
      "3.5150518\n",
      "3.4651234\n",
      "3.4152203\n",
      "3.3653352\n",
      "3.3154602\n",
      "3.265596\n",
      "3.2157388\n",
      "3.1658885\n",
      "3.1160426\n",
      "3.0662005\n",
      "3.016362\n",
      "2.9665263\n",
      "2.9166927\n",
      "2.866862\n",
      "2.8170328\n",
      "2.7672057\n",
      "2.7173817\n",
      "2.6675606\n",
      "2.6177397\n",
      "2.5679219\n",
      "2.5181074\n",
      "2.4682946\n",
      "2.4184859\n",
      "2.3686802\n",
      "2.3188796\n",
      "2.2690814\n",
      "2.2192898\n",
      "2.1695023\n",
      "2.1197207\n",
      "2.0699472\n",
      "2.0201807\n",
      "1.9704242\n",
      "1.9206789\n",
      "1.8709497\n",
      "1.8212371\n",
      "1.771544\n",
      "1.7218722\n",
      "1.6722238\n",
      "1.6226047\n",
      "1.5730155\n",
      "1.5234599\n",
      "1.4739465\n",
      "1.4244874\n",
      "1.3750986\n",
      "1.3258164\n",
      "1.2767022\n",
      "1.2278942\n",
      "1.1796212\n",
      "1.1321052\n",
      "1.0855194\n",
      "1.0399659\n",
      "0.99550754\n",
      "0.95220095\n",
      "0.91009706\n",
      "0.86924905\n",
      "0.82970184\n",
      "0.7914989\n",
      "0.7546784\n",
      "0.7192669\n",
      "0.6852802\n",
      "0.65272874\n",
      "0.62161934\n",
      "0.5919455\n",
      "0.56369495\n",
      "0.5368506\n",
      "0.51139253\n",
      "0.48729634\n",
      "0.46453324\n",
      "0.44306704\n",
      "0.42285877\n",
      "0.40386915\n",
      "0.3860585\n"
     ]
    }
   ],
   "source": [
    "for i in range(100):\n",
    "    \n",
    "    _, curr_loss = sess.run([optimize, mean_loss], \n",
    "        feed_dict = {inputs: training_data['inputs'], targets: training_data['targets']})\n",
    "\n",
    "    \n",
    "    print(curr_loss)"
   ]
  },
  {
   "cell_type": "markdown",
   "metadata": {},
   "source": [
    "### Plotting"
   ]
  },
  {
   "cell_type": "code",
   "execution_count": 10,
   "metadata": {},
   "outputs": [
    {
     "data": {
      "image/png": "[encoded data removed]",
      "text/plain": [
       "<Figure size 432x288 with 1 Axes>"
      ]
     },
     "metadata": {},
     "output_type": "display_data"
    }
   ],
   "source": [
    "out = sess.run([outputs], feed_dict = {inputs: training_data['inputs']})\n",
    "plt.plot(np.squeeze(out), np.squeeze(training_data['targets']))\n",
    "plt.xlabel('outputs')\n",
    "plt.ylabel('targets')\n",
    "plt.show()"
   ]
  },
  {
   "cell_type": "code",
   "execution_count": null,
   "metadata": {},
   "outputs": [],
   "source": []
  }
 ],
 "metadata": {
  "kernelspec": {
   "display_name": "Python 3",
   "language": "python",
   "name": "python3"
  },
  "language_info": {
   "codemirror_mode": {
    "name": "ipython",
    "version": 3
   },
   "file_extension": ".py",
   "mimetype": "text/x-python",
   "name": "python",
   "nbconvert_exporter": "python",
   "pygments_lexer": "ipython3",
   "version": "3.6.5"
  }
 },
 "nbformat": 4,
 "nbformat_minor": 2
}
