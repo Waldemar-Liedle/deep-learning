{
 "cells": [
  {
   "cell_type": "markdown",
   "metadata": {},
   "source": [
    "# Leeson2: Example with TensorFlow"
   ]
  },
  {
   "cell_type": "markdown",
   "metadata": {},
   "source": [
    "### Imports"
   ]
  },
  {
   "cell_type": "code",
   "execution_count": 1,
   "metadata": {},
   "outputs": [
    {
     "name": "stderr",
     "output_type": "stream",
     "text": [
      "C:\\Users\\WL\\Anaconda3\\lib\\site-packages\\h5py\\__init__.py:36: FutureWarning: Conversion of the second argument of issubdtype from `float` to `np.floating` is deprecated. In future, it will be treated as `np.float64 == np.dtype(float).type`.\n",
      "  from ._conv import register_converters as _register_converters\n"
     ]
    }
   ],
   "source": [
    "import numpy as np\n",
    "import matplotlib.pyplot as plt\n",
    "import tensorflow as tf"
   ]
  },
  {
   "cell_type": "markdown",
   "metadata": {},
   "source": [
    "### Data"
   ]
  },
  {
   "cell_type": "code",
   "execution_count": 2,
   "metadata": {},
   "outputs": [],
   "source": [
    "observations = 10000\n",
    "\n",
    "xs = np.random.uniform(-10, 10, (observations, 1))\n",
    "zs = np.random.uniform(-10, 10, (observations, 1))\n",
    "\n",
    "generated_inputs = np.column_stack((xs,zs))\n",
    "\n",
    "noise = np.random.uniform(-1, 1, (observations, 1))\n",
    "generated_targets = 2*xs - 3*zs + 5 + noise\n",
    "\n",
    "np.savez('tf_intro', inputs = generated_inputs, targets = generated_targets)"
   ]
  },
  {
   "cell_type": "markdown",
   "metadata": {},
   "source": [
    "### Solving with TensorFlow"
   ]
  },
  {
   "cell_type": "code",
   "execution_count": 3,
   "metadata": {},
   "outputs": [],
   "source": [
    "input_size = 2\n",
    "output_size = 1"
   ]
  },
  {
   "cell_type": "markdown",
   "metadata": {},
   "source": [
    "### Model"
   ]
  },
  {
   "cell_type": "code",
   "execution_count": 4,
   "metadata": {},
   "outputs": [],
   "source": [
    "inputs = tf.placeholder(tf.float32, [None, input_size])\n",
    "targets = tf.placeholder(tf.float32, [None, output_size])\n",
    "\n",
    "weights = tf.Variable(tf.random_uniform([input_size, output_size], minval = -0.1, maxval = 0.1))\n",
    "biases = tf.Variable(tf.random_uniform([output_size], minval = -0.1, maxval = 0.1))\n",
    "\n",
    "outputs = tf.matmul(inputs, weights) + biases"
   ]
  },
  {
   "cell_type": "markdown",
   "metadata": {},
   "source": [
    "### Objective function and optimization method"
   ]
  },
  {
   "cell_type": "code",
   "execution_count": 5,
   "metadata": {},
   "outputs": [],
   "source": [
    "#mean_loss = tf.losses.mean_squared_error(labels = targets, predictions = outputs) / 2.\n",
    "mean_loss = tf.losses.huber_loss(labels = targets, predictions = outputs) / 2.\n",
    "\n",
    "optimize = tf.train.GradientDescentOptimizer(learning_rate = 0.05).minimize(mean_loss)"
   ]
  },
  {
   "cell_type": "markdown",
   "metadata": {},
   "source": [
    "### Preparation"
   ]
  },
  {
   "cell_type": "code",
   "execution_count": 6,
   "metadata": {},
   "outputs": [],
   "source": [
    "sess = tf.InteractiveSession()"
   ]
  },
  {
   "cell_type": "markdown",
   "metadata": {},
   "source": [
    "### Variables"
   ]
  },
  {
   "cell_type": "code",
   "execution_count": 7,
   "metadata": {},
   "outputs": [],
   "source": [
    "initializer = tf.global_variables_initializer()\n",
    "\n",
    "sess.run(initializer)"
   ]
  },
  {
   "cell_type": "markdown",
   "metadata": {},
   "source": [
    "### Training data"
   ]
  },
  {
   "cell_type": "code",
   "execution_count": 8,
   "metadata": {},
   "outputs": [],
   "source": [
    "training_data = np.load('tf_intro.npz')"
   ]
  },
  {
   "cell_type": "markdown",
   "metadata": {},
   "source": [
    "### Learning"
   ]
  },
  {
   "cell_type": "code",
   "execution_count": 9,
   "metadata": {
    "scrolled": true
   },
   "outputs": [
    {
     "name": "stdout",
     "output_type": "stream",
     "text": [
      "8.4221\n",
      "8.146848\n",
      "7.8728986\n",
      "7.6004233\n",
      "7.329542\n",
      "7.060367\n",
      "6.793107\n",
      "6.527961\n",
      "6.265142\n",
      "6.0049105\n",
      "5.747633\n",
      "5.4936757\n",
      "5.2433724\n",
      "4.9971094\n",
      "4.755394\n",
      "4.5187173\n",
      "4.2875414\n",
      "4.062391\n",
      "3.8441305\n",
      "3.633441\n",
      "3.4312608\n",
      "3.2387354\n",
      "3.0569034\n",
      "2.8871741\n",
      "2.7316663\n",
      "2.5927157\n",
      "2.4719875\n",
      "2.370077\n",
      "2.2873676\n",
      "2.2223337\n",
      "2.1720712\n",
      "2.1333363\n",
      "2.103185\n",
      "2.0790477\n",
      "2.0588582\n",
      "2.041221\n",
      "2.0252347\n",
      "2.0103273\n",
      "1.9961324\n",
      "1.9824222\n",
      "1.9690367\n",
      "1.9558793\n",
      "1.9428833\n",
      "1.9300075\n",
      "1.9172176\n",
      "1.9044932\n",
      "1.8918173\n",
      "1.8791804\n",
      "1.8665732\n",
      "1.8539902\n",
      "1.8414282\n",
      "1.8288788\n",
      "1.8163451\n",
      "1.8038223\n",
      "1.7913078\n",
      "1.7788013\n",
      "1.7663023\n",
      "1.7538098\n",
      "1.7413214\n",
      "1.728839\n",
      "1.7163609\n",
      "1.7038867\n",
      "1.6914163\n",
      "1.6789511\n",
      "1.6664896\n",
      "1.6540308\n",
      "1.6415768\n",
      "1.6291274\n",
      "1.6166822\n",
      "1.6042422\n",
      "1.5918072\n",
      "1.5793773\n",
      "1.5669527\n",
      "1.554534\n",
      "1.5421221\n",
      "1.529716\n",
      "1.5173178\n",
      "1.5049266\n",
      "1.4925424\n",
      "1.480166\n",
      "1.4677969\n",
      "1.4554352\n",
      "1.443081\n",
      "1.4307344\n",
      "1.4183952\n",
      "1.4060628\n",
      "1.3937377\n",
      "1.3814192\n",
      "1.3691069\n",
      "1.3568006\n",
      "1.3445008\n",
      "1.3322057\n",
      "1.3199164\n",
      "1.3076321\n",
      "1.2953521\n",
      "1.283077\n",
      "1.2708062\n",
      "1.258539\n",
      "1.246275\n",
      "1.2340158\n"
     ]
    }
   ],
   "source": [
    "for i in range(100):\n",
    "    \n",
    "    _, curr_loss = sess.run([optimize, mean_loss], \n",
    "        feed_dict = {inputs: training_data['inputs'], targets: training_data['targets']})\n",
    "\n",
    "    \n",
    "    print(curr_loss)"
   ]
  },
  {
   "cell_type": "markdown",
   "metadata": {},
   "source": [
    "### Plotting"
   ]
  },
  {
   "cell_type": "code",
   "execution_count": 10,
   "metadata": {},
   "outputs": [
    {
     "data": {
      "image/png": "[encoded data removed]",
      "text/plain": [
       "<Figure size 432x288 with 1 Axes>"
      ]
     },
     "metadata": {},
     "output_type": "display_data"
    }
   ],
   "source": [
    "out = sess.run([outputs], feed_dict = {inputs: training_data['inputs']})\n",
    "plt.plot(np.squeeze(out), np.squeeze(training_data['targets']))\n",
    "plt.xlabel('outputs')\n",
    "plt.ylabel('targets')\n",
    "plt.show()"
   ]
  },
  {
   "cell_type": "markdown",
   "metadata": {},
   "source": [
    "### Weight and biases"
   ]
  },
  {
   "cell_type": "code",
   "execution_count": 11,
   "metadata": {},
   "outputs": [
    {
     "name": "stdout",
     "output_type": "stream",
     "text": [
      "[array([[ 2.0090694],\n",
      "       [-2.8187056]], dtype=float32)]\n",
      "[array([2.0504026], dtype=float32)]\n"
     ]
    }
   ],
   "source": [
    "w = sess.run([weights], \n",
    "               feed_dict={inputs: training_data['inputs']})\n",
    "               \n",
    "b = sess.run([biases], \n",
    "               feed_dict={inputs: training_data['inputs']})\n",
    "\n",
    "print (w)\n",
    "print (b)"
   ]
  }
 ],
 "metadata": {
  "kernelspec": {
   "display_name": "Python 3",
   "language": "python",
   "name": "python3"
  },
  "language_info": {
   "codemirror_mode": {
    "name": "ipython",
    "version": 3
   },
   "file_extension": ".py",
   "mimetype": "text/x-python",
   "name": "python",
   "nbconvert_exporter": "python",
   "pygments_lexer": "ipython3",
   "version": "3.6.5"
  }
 },
 "nbformat": 4,
 "nbformat_minor": 2
}
