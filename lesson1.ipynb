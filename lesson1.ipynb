{
 "cells": [
  {
   "cell_type": "markdown",
   "metadata": {},
   "source": [
    "# Lesson1: Example with numpy"
   ]
  },
  {
   "cell_type": "markdown",
   "metadata": {},
   "source": [
    "### Imports"
   ]
  },
  {
   "cell_type": "code",
   "execution_count": 1,
   "metadata": {},
   "outputs": [],
   "source": [
    "import numpy as np\n",
    "import matplotlib.pyplot as plt\n",
    "from mpl_toolkits.mplot3d import Axes3D"
   ]
  },
  {
   "cell_type": "markdown",
   "metadata": {},
   "source": [
    "### Inputs"
   ]
  },
  {
   "cell_type": "code",
   "execution_count": 2,
   "metadata": {},
   "outputs": [
    {
     "name": "stdout",
     "output_type": "stream",
     "text": [
      "(10000, 2)\n"
     ]
    }
   ],
   "source": [
    "observations = 10000\n",
    "\n",
    "xs=np.random.uniform(low=-10,high=10,size=(observations,1))\n",
    "zs=np.random.uniform(-10,10,(observations,1))\n",
    "\n",
    "inputs = np.column_stack((xs,zs))\n",
    "\n",
    "print (inputs.shape)"
   ]
  },
  {
   "cell_type": "markdown",
   "metadata": {},
   "source": [
    "### Targets"
   ]
  },
  {
   "cell_type": "code",
   "execution_count": 3,
   "metadata": {},
   "outputs": [
    {
     "name": "stdout",
     "output_type": "stream",
     "text": [
      "(10000, 1)\n"
     ]
    }
   ],
   "source": [
    "noise = np.random.uniform(-1,1,(observations,1))\n",
    "\n",
    "targets = 2*xs - 3*zs + 5 + noise\n",
    "\n",
    "print (targets.shape)"
   ]
  },
  {
   "cell_type": "code",
   "execution_count": null,
   "metadata": {},
   "outputs": [],
   "source": []
  },
  {
   "cell_type": "code",
   "execution_count": null,
   "metadata": {},
   "outputs": [],
   "source": []
  },
  {
   "cell_type": "code",
   "execution_count": null,
   "metadata": {},
   "outputs": [],
   "source": []
  },
  {
   "cell_type": "code",
   "execution_count": null,
   "metadata": {},
   "outputs": [],
   "source": []
  },
  {
   "cell_type": "markdown",
   "metadata": {},
   "source": [
    "### Plot"
   ]
  },
  {
   "cell_type": "code",
   "execution_count": 4,
   "metadata": {},
   "outputs": [
    {
     "data": {
      "image/png": "[encoded data removed]",
      "text/plain": [
       "<Figure size 432x288 with 1 Axes>"
      ]
     },
     "metadata": {},
     "output_type": "display_data"
    }
   ],
   "source": [
    "targets = targets.reshape(observations,)\n",
    "fig = plt.figure()\n",
    "ax = fig.add_subplot(111, projection='3d')\n",
    "ax.plot(xs,zs,targets)\n",
    "ax.set_xlabel('xs')\n",
    "ax.set_ylabel('zs')\n",
    "ax.set_zlabel('targets')\n",
    "ax.view_init(azim=100)\n",
    "plt.show()\n",
    "targets = targets.reshape(observations,1)"
   ]
  },
  {
   "cell_type": "markdown",
   "metadata": {},
   "source": [
    "### Variables"
   ]
  },
  {
   "cell_type": "code",
   "execution_count": 5,
   "metadata": {},
   "outputs": [
    {
     "name": "stdout",
     "output_type": "stream",
     "text": [
      "[[-0.0625927 ]\n",
      " [-0.07617524]]\n",
      "[-0.01697663]\n"
     ]
    }
   ],
   "source": [
    "init_range = 0.1\n",
    "\n",
    "weights = np.random.uniform(-init_range,init_range,(2,1))\n",
    "\n",
    "biases = np.random.uniform(-init_range,init_range,1)\n",
    "\n",
    "print(weights)\n",
    "print(biases)"
   ]
  },
  {
   "cell_type": "markdown",
   "metadata": {},
   "source": [
    "### Learning rate"
   ]
  },
  {
   "cell_type": "code",
   "execution_count": 6,
   "metadata": {},
   "outputs": [],
   "source": [
    "learning_rate = 0.02"
   ]
  },
  {
   "cell_type": "markdown",
   "metadata": {},
   "source": [
    "### Train"
   ]
  },
  {
   "cell_type": "code",
   "execution_count": 7,
   "metadata": {},
   "outputs": [
    {
     "name": "stdout",
     "output_type": "stream",
     "text": [
      "228.28659388864966\n",
      "34.770738876018044\n",
      "14.176738979790784\n",
      "11.618803680861639\n",
      "10.956628214410978\n",
      "10.507667143647506\n",
      "10.095967960982481\n",
      "9.702599347362074\n",
      "9.325016461905276\n",
      "8.962404748423685\n",
      "8.614151717568323\n",
      "8.279686826902756\n",
      "7.95846396707311\n",
      "7.64995884230038\n",
      "7.353667934557356\n",
      "7.069107662997843\n",
      "6.795813592740969\n",
      "6.5333396766564835\n",
      "6.281257527343689\n",
      "6.039155717952042\n",
      "5.806639110685329\n",
      "5.583328211891663\n",
      "5.368858552686487\n",
      "5.162880094097755\n",
      "4.965056655762352\n",
      "4.775065367241354\n",
      "4.592596141058624\n",
      "4.417351166602627\n",
      "4.249044424065512\n",
      "4.08740121762613\n",
      "3.9321577271150963\n",
      "3.783060577430128\n",
      "3.6398664249989756\n",
      "3.5023415606149064\n",
      "3.37026152799661\n",
      "3.2434107574499005\n",
      "3.1215822140333787\n",
      "3.0045770596537613\n",
      "2.892204328539407\n",
      "2.7842806155623774\n",
      "2.680629776900323\n",
      "2.5810826425496547\n",
      "2.4854767402207836\n",
      "2.39365603016479\n",
      "2.305470650498743\n",
      "2.2207766726139866\n",
      "2.1394358662682187\n",
      "2.061315473977966\n",
      "1.9862879943431901\n",
      "1.9142309739504602\n",
      "1.845026807515001\n",
      "1.7785625459354313\n",
      "1.7147297119479386\n",
      "1.6534241230789966\n",
      "1.59454572160768\n",
      "1.5379984112600256\n",
      "1.4836899003689532\n",
      "1.4315315512437263\n",
      "1.3814382355031078\n",
      "1.3333281951361406\n",
      "1.2871229090637177\n",
      "1.2427469649832346\n",
      "1.2001279362870918\n",
      "1.1591962638541968\n",
      "1.119885142521548\n",
      "1.0821304120505715\n",
      "1.0458704524102882\n",
      "1.0110460832063906\n",
      "0.9776004670920778\n",
      "0.945479017003018\n",
      "0.9146293070650272\n",
      "0.8850009870290544\n",
      "0.8565457000938286\n",
      "0.8292170039820368\n",
      "0.8029702951412228\n",
      "0.7777627359456986\n",
      "0.7535531847806511\n",
      "0.7303021288943209\n",
      "0.707971619908689\n",
      "0.686525211883383\n",
      "0.6659279018317471\n",
      "0.6461460725919708\n",
      "0.6271474379600345\n",
      "0.6089009899949509\n",
      "0.5913769484102523\n",
      "0.5745467119691721\n",
      "0.558382811804155\n",
      "0.5428588665845324\n",
      "0.5279495394591752\n",
      "0.5136304967038615\n",
      "0.49987836800586355\n",
      "0.48667070832091974\n",
      "0.47398596124037096\n",
      "0.4618034238086313\n",
      "0.45010321273360704\n",
      "0.4388662319348876\n",
      "0.4280741413767674\n",
      "0.41770932713521086\n",
      "0.40775487264991683\n",
      "0.39819453111456277\n"
     ]
    }
   ],
   "source": [
    "for i in range(100):\n",
    "    outputs = np.dot(inputs,weights) + biases\n",
    "    deltas = outputs - targets\n",
    "    \n",
    "    loss = np.sum(deltas ** 2) / 2 / observations\n",
    "    \n",
    "    print(loss)\n",
    "    \n",
    "    deltas_scaled = deltas / observations\n",
    "    \n",
    "    weights = weights - learning_rate * np.dot(inputs.T,deltas_scaled)\n",
    "    biases = biases - learning_rate * np.sum(deltas_scaled)"
   ]
  },
  {
   "cell_type": "markdown",
   "metadata": {},
   "source": [
    "### Test weight and biases"
   ]
  },
  {
   "cell_type": "code",
   "execution_count": 8,
   "metadata": {},
   "outputs": [
    {
     "name": "stdout",
     "output_type": "stream",
     "text": [
      "[[ 1.99973658]\n",
      " [-2.9987069 ]] [4.33881389]\n"
     ]
    }
   ],
   "source": [
    "print(weights,biases)"
   ]
  },
  {
   "cell_type": "markdown",
   "metadata": {},
   "source": [
    "### Outputs vs targets"
   ]
  },
  {
   "cell_type": "code",
   "execution_count": 9,
   "metadata": {},
   "outputs": [
    {
     "data": {
      "image/png": "[encoded data removed]",
      "text/plain": [
       "<Figure size 432x288 with 1 Axes>"
      ]
     },
     "metadata": {},
     "output_type": "display_data"
    }
   ],
   "source": [
    "plt.plot(outputs,targets)\n",
    "plt.xlabel('outputs')\n",
    "plt.ylabel('targets')\n",
    "plt.show()"
   ]
  },
  {
   "cell_type": "code",
   "execution_count": null,
   "metadata": {},
   "outputs": [],
   "source": []
  }
 ],
 "metadata": {
  "kernelspec": {
   "display_name": "Python 3",
   "language": "python",
   "name": "python3"
  },
  "language_info": {
   "codemirror_mode": {
    "name": "ipython",
    "version": 3
   },
   "file_extension": ".py",
   "mimetype": "text/x-python",
   "name": "python",
   "nbconvert_exporter": "python",
   "pygments_lexer": "ipython3",
   "version": "3.6.5"
  }
 },
 "nbformat": 4,
 "nbformat_minor": 2
}
