{
 "cells": [
  {
   "cell_type": "markdown",
   "metadata": {},
   "source": [
    "# Leeson2: Example with TensorFlow"
   ]
  },
  {
   "cell_type": "markdown",
   "metadata": {},
   "source": [
    "### Imports"
   ]
  },
  {
   "cell_type": "code",
   "execution_count": 1,
   "metadata": {},
   "outputs": [
    {
     "name": "stderr",
     "output_type": "stream",
     "text": [
      "C:\\Users\\WL\\Anaconda3\\lib\\site-packages\\h5py\\__init__.py:36: FutureWarning: Conversion of the second argument of issubdtype from `float` to `np.floating` is deprecated. In future, it will be treated as `np.float64 == np.dtype(float).type`.\n",
      "  from ._conv import register_converters as _register_converters\n"
     ]
    }
   ],
   "source": [
    "import numpy as np\n",
    "import matplotlib.pyplot as plt\n",
    "import tensorflow as tf"
   ]
  },
  {
   "cell_type": "markdown",
   "metadata": {},
   "source": [
    "### Data"
   ]
  },
  {
   "cell_type": "code",
   "execution_count": 2,
   "metadata": {},
   "outputs": [],
   "source": [
    "observations = 10000\n",
    "\n",
    "xs = np.random.uniform(-10, 10, (observations, 1))\n",
    "zs = np.random.uniform(-10, 10, (observations, 1))\n",
    "\n",
    "generated_inputs = np.column_stack((xs,zs))\n",
    "\n",
    "noise = np.random.uniform(-1, 1, (observations, 1))\n",
    "generated_targets = 2*xs - 3*zs + 5 + noise\n",
    "\n",
    "np.savez('tf_intro', inputs = generated_inputs, targets = generated_targets)"
   ]
  },
  {
   "cell_type": "markdown",
   "metadata": {},
   "source": [
    "### Solving with TensorFlow"
   ]
  },
  {
   "cell_type": "code",
   "execution_count": 3,
   "metadata": {},
   "outputs": [],
   "source": [
    "input_size = 2\n",
    "output_size = 1"
   ]
  },
  {
   "cell_type": "markdown",
   "metadata": {},
   "source": [
    "### Model"
   ]
  },
  {
   "cell_type": "code",
   "execution_count": 4,
   "metadata": {},
   "outputs": [],
   "source": [
    "inputs = tf.placeholder(tf.float32, [None, input_size])\n",
    "targets = tf.placeholder(tf.float32, [None, output_size])\n",
    "\n",
    "weights = tf.Variable(tf.random_uniform([input_size, output_size], minval = -0.1, maxval = 0.1))\n",
    "biases = tf.Variable(tf.random_uniform([output_size], minval = -0.1, maxval = 0.1))\n",
    "\n",
    "outputs = tf.matmul(inputs, weights) + biases"
   ]
  },
  {
   "cell_type": "markdown",
   "metadata": {},
   "source": [
    "### Objective function and optimization method"
   ]
  },
  {
   "cell_type": "code",
   "execution_count": 5,
   "metadata": {},
   "outputs": [],
   "source": [
    "#mean_loss = tf.losses.mean_squared_error(labels = targets, predictions = outputs) / 2.\n",
    "mean_loss = tf.losses.huber_loss(labels = targets, predictions = outputs) / 2.\n",
    "\n",
    "optimize = tf.train.GradientDescentOptimizer(learning_rate = 0.05).minimize(mean_loss)"
   ]
  },
  {
   "cell_type": "markdown",
   "metadata": {},
   "source": [
    "### Preparation"
   ]
  },
  {
   "cell_type": "code",
   "execution_count": 6,
   "metadata": {},
   "outputs": [],
   "source": [
    "sess = tf.InteractiveSession()"
   ]
  },
  {
   "cell_type": "markdown",
   "metadata": {},
   "source": [
    "### Variables"
   ]
  },
  {
   "cell_type": "code",
   "execution_count": 7,
   "metadata": {},
   "outputs": [],
   "source": [
    "initializer = tf.global_variables_initializer()\n",
    "\n",
    "sess.run(initializer)"
   ]
  },
  {
   "cell_type": "markdown",
   "metadata": {},
   "source": [
    "### Training data"
   ]
  },
  {
   "cell_type": "code",
   "execution_count": 8,
   "metadata": {},
   "outputs": [],
   "source": [
    "training_data = np.load('tf_intro.npz')"
   ]
  },
  {
   "cell_type": "markdown",
   "metadata": {},
   "source": [
    "### Learning"
   ]
  },
  {
   "cell_type": "code",
   "execution_count": 9,
   "metadata": {
    "scrolled": true
   },
   "outputs": [
    {
     "name": "stdout",
     "output_type": "stream",
     "text": [
      "8.851452\n",
      "8.578898\n",
      "8.307308\n",
      "8.036797\n",
      "7.767452\n",
      "7.4993906\n",
      "7.232795\n",
      "6.967864\n",
      "6.704777\n",
      "6.4437327\n",
      "6.185018\n",
      "5.9289923\n",
      "5.6759796\n",
      "5.4262514\n",
      "5.18025\n",
      "4.9384713\n",
      "4.701286\n",
      "4.469045\n",
      "4.2421627\n",
      "4.0211873\n",
      "3.8067405\n",
      "3.5999043\n",
      "3.401957\n",
      "3.2144504\n",
      "3.0389636\n",
      "2.877483\n",
      "2.7318392\n",
      "2.6035476\n",
      "2.4936223\n",
      "2.4020689\n",
      "2.3279517\n",
      "2.2697313\n",
      "2.224936\n",
      "2.1905675\n",
      "2.1636395\n",
      "2.141659\n",
      "2.1228757\n",
      "2.1061437\n",
      "2.0907156\n",
      "2.0761473\n",
      "2.0621524\n",
      "2.0485466\n",
      "2.035208\n",
      "2.0220578\n",
      "2.0090456\n",
      "1.9961329\n",
      "1.9832977\n",
      "1.9705195\n",
      "1.9577848\n",
      "1.945084\n",
      "1.9324106\n",
      "1.9197578\n",
      "1.9071238\n",
      "1.8945025\n",
      "1.8818922\n",
      "1.869293\n",
      "1.856702\n",
      "1.8441164\n",
      "1.8315368\n",
      "1.8189619\n",
      "1.806392\n",
      "1.7938254\n",
      "1.7812622\n",
      "1.7687019\n",
      "1.7561442\n",
      "1.7435887\n",
      "1.731035\n",
      "1.7184844\n",
      "1.7059348\n",
      "1.6933872\n",
      "1.68084\n",
      "1.6682961\n",
      "1.6557537\n",
      "1.6432127\n",
      "1.6306728\n",
      "1.6181353\n",
      "1.6055987\n",
      "1.5930644\n",
      "1.5805316\n",
      "1.5680012\n",
      "1.5554724\n",
      "1.542946\n",
      "1.5304222\n",
      "1.5179008\n",
      "1.5053815\n",
      "1.4928643\n",
      "1.4803506\n",
      "1.467839\n",
      "1.4553308\n",
      "1.4428264\n",
      "1.4303254\n",
      "1.4178283\n",
      "1.4053353\n",
      "1.3928497\n",
      "1.3803695\n",
      "1.3678956\n",
      "1.3554295\n",
      "1.3429711\n",
      "1.3305221\n",
      "1.3180844\n"
     ]
    }
   ],
   "source": [
    "for i in range(100):\n",
    "    \n",
    "    _, curr_loss = sess.run([optimize, mean_loss], \n",
    "        feed_dict = {inputs: training_data['inputs'], targets: training_data['targets']})\n",
    "\n",
    "    \n",
    "    print(curr_loss)"
   ]
  },
  {
   "cell_type": "markdown",
   "metadata": {},
   "source": [
    "### Plotting"
   ]
  },
  {
   "cell_type": "code",
   "execution_count": 10,
   "metadata": {},
   "outputs": [
    {
     "data": {
      "image/png": "[encoded data removed]",
      "text/plain": [
       "<Figure size 432x288 with 1 Axes>"
      ]
     },
     "metadata": {},
     "output_type": "display_data"
    }
   ],
   "source": [
    "out = sess.run([outputs], feed_dict = {inputs: training_data['inputs']})\n",
    "plt.plot(np.squeeze(out), np.squeeze(training_data['targets']))\n",
    "plt.xlabel('outputs')\n",
    "plt.ylabel('targets')\n",
    "plt.show()"
   ]
  },
  {
   "cell_type": "markdown",
   "metadata": {},
   "source": [
    "### Weight and biases"
   ]
  },
  {
   "cell_type": "code",
   "execution_count": 11,
   "metadata": {},
   "outputs": [
    {
     "name": "stdout",
     "output_type": "stream",
     "text": [
      "[array([[ 1.8119783],\n",
      "       [-2.9634597]], dtype=float32)]\n",
      "[array([1.8764539], dtype=float32)]\n"
     ]
    }
   ],
   "source": [
    "w = sess.run([weights], \n",
    "               feed_dict={inputs: training_data['inputs']})\n",
    "               \n",
    "b = sess.run([biases], \n",
    "               feed_dict={inputs: training_data['inputs']})\n",
    "\n",
    "print (w)\n",
    "print (b)"
   ]
  },
  {
   "cell_type": "code",
   "execution_count": null,
   "metadata": {},
   "outputs": [],
   "source": []
  }
 ],
 "metadata": {
  "kernelspec": {
   "display_name": "Python 3",
   "language": "python",
   "name": "python3"
  },
  "language_info": {
   "codemirror_mode": {
    "name": "ipython",
    "version": 3
   },
   "file_extension": ".py",
   "mimetype": "text/x-python",
   "name": "python",
   "nbconvert_exporter": "python",
   "pygments_lexer": "ipython3",
   "version": "3.6.5"
  }
 },
 "nbformat": 4,
 "nbformat_minor": 2
}
